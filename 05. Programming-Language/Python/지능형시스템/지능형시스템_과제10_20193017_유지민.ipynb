{
 "cells": [
  {
   "cell_type": "markdown",
   "metadata": {},
   "source": [
    "# 문제 1"
   ]
  },
  {
   "cell_type": "code",
   "execution_count": 7,
   "metadata": {
    "scrolled": true
   },
   "outputs": [
    {
     "data": {
      "text/plain": [
       "array([[[ 0,  1],\n",
       "        [ 2,  3],\n",
       "        [ 4,  5],\n",
       "        [ 6,  7]],\n",
       "\n",
       "       [[ 8,  9],\n",
       "        [10, 11],\n",
       "        [12, 13],\n",
       "        [14, 15]],\n",
       "\n",
       "       [[16, 17],\n",
       "        [18, 19],\n",
       "        [20, 21],\n",
       "        [22, 23]]])"
      ]
     },
     "execution_count": 7,
     "metadata": {},
     "output_type": "execute_result"
    }
   ],
   "source": [
    "# 코드1과 같이 (3,4,2) shape의 numpy array가 있다.\n",
    "# 문제1-1) 결과 1과 같은 출력 결과가 나오도록 빈칸을 채우시오.\n",
    "import numpy as np\n",
    "array = np.arange(24).reshape(3, 4, 2)\n",
    "array"
   ]
  },
  {
   "cell_type": "code",
   "execution_count": 8,
   "metadata": {},
   "outputs": [
    {
     "name": "stdout",
     "output_type": "stream",
     "text": [
      "[[24 27]\n",
      " [30 33]\n",
      " [36 39]\n",
      " [42 45]]\n",
      "\n",
      "[[ 1  5  9 13]\n",
      " [17 21 25 29]\n",
      " [33 37 41 45]]\n",
      "\n",
      "\n",
      "[[12 16]\n",
      " [44 48]\n",
      " [76 80]]\n"
     ]
    }
   ],
   "source": [
    "# 문제1-2) 결과 2와 같은 출력 결과가 나오도록 빈칸을 채우시오.\n",
    "s0 = array.sum(axis = 0)\n",
    "s1 = array.sum(axis = 2)\n",
    "s2 = array.sum(axis = 1)\n",
    "\n",
    "print(s0)\n",
    "print()\n",
    "print(s1)\n",
    "print()\n",
    "print()\n",
    "print(s2)"
   ]
  },
  {
   "cell_type": "code",
   "execution_count": null,
   "metadata": {},
   "outputs": [],
   "source": []
  },
  {
   "cell_type": "code",
   "execution_count": null,
   "metadata": {},
   "outputs": [],
   "source": []
  }
 ],
 "metadata": {
  "kernelspec": {
   "display_name": "Python 3",
   "language": "python",
   "name": "python3"
  },
  "language_info": {
   "codemirror_mode": {
    "name": "ipython",
    "version": 3
   },
   "file_extension": ".py",
   "mimetype": "text/x-python",
   "name": "python",
   "nbconvert_exporter": "python",
   "pygments_lexer": "ipython3",
   "version": "3.8.5"
  }
 },
 "nbformat": 4,
 "nbformat_minor": 4
}

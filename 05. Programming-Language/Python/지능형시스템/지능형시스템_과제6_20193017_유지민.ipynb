{
 "cells": [
  {
   "cell_type": "markdown",
   "metadata": {},
   "source": [
    "# 문제 1"
   ]
  },
  {
   "cell_type": "code",
   "execution_count": 2,
   "metadata": {},
   "outputs": [
    {
     "name": "stdout",
     "output_type": "stream",
     "text": [
      "This is your first function\n",
      "This is how to defining function\n"
     ]
    }
   ],
   "source": [
    "# 1) 다음 결과가 출력 될 수 있도록 빈칸을 채우시오\n",
    "def about_defining_function():\n",
    "    print(\"This is how to defining function\")\n",
    "print(\"This is your first function\")\n",
    "\n",
    "about_defining_function()"
   ]
  },
  {
   "cell_type": "markdown",
   "metadata": {},
   "source": [
    "# 문제 2"
   ]
  },
  {
   "cell_type": "code",
   "execution_count": 3,
   "metadata": {},
   "outputs": [
    {
     "name": "stdout",
     "output_type": "stream",
     "text": [
      "Today special menu is beaf.\n",
      "The price of beaf is 200dollar\n",
      "enjoy!\n",
      "\n",
      "Today special menu is lamb.\n",
      "The price of lamb is 100dollar\n",
      "enjoy!\n",
      "\n"
     ]
    }
   ],
   "source": [
    "# 2) 다음 결과가 출력될 수 있도록 special_menu_price 함수를 작성하시오\n",
    "def special_menu_price(menu = \"beaf\", price = \"100\") :\n",
    "    print(\"Today special menu is \" + menu + \".\")\n",
    "    print(\"The price of \" + menu + \" is \" + str(price) + \"dollar\")\n",
    "    print(\"enjoy!\")\n",
    "    print()\n",
    "    \n",
    "special_menu_price(price=\"200\")\n",
    "special_menu_price(\"lamb\")"
   ]
  },
  {
   "cell_type": "markdown",
   "metadata": {},
   "source": [
    "# 문제 3"
   ]
  },
  {
   "cell_type": "code",
   "execution_count": 5,
   "metadata": {},
   "outputs": [
    {
     "name": "stdout",
     "output_type": "stream",
     "text": [
      "languages :  ('korean', 'english', 'french', 'chinese')\n"
     ]
    }
   ],
   "source": [
    "# 3) 해당 코드는 다음과 같은 에러가 발생한다. 에러가 발생하지 않도록 코드를 수정하시오.\n",
    "def Languages(*var) :\n",
    "    for languages in var:\n",
    "        print(\"languages : \", languages)\n",
    "        \n",
    "variables = ('korean', 'english', 'french', 'chinese')\n",
    "Languages(variables)"
   ]
  },
  {
   "cell_type": "markdown",
   "metadata": {},
   "source": [
    "# 문제 4"
   ]
  },
  {
   "cell_type": "code",
   "execution_count": 6,
   "metadata": {},
   "outputs": [
    {
     "name": "stdout",
     "output_type": "stream",
     "text": [
      "[1, 4, 9]\n",
      "[64, 125, 216]\n"
     ]
    }
   ],
   "source": [
    "# 4) square_cube는 주어진 arguments의 앞의 절반은 각각 제곱을 하고 뒤의 절반은 세제곱 하는 함수이다.\n",
    "# numbers를 arguments로 받을 때 다음 결과가 출력될 수 있도록 빈칸을 채우시오\n",
    "\n",
    "def square_cube(*num):\n",
    "    square = [x * x for x in num if x < 4]\n",
    "    cube = [x * x * x for x in num if x > 3]\n",
    "    \n",
    "    return square, cube\n",
    "\n",
    "numbers = (1, 2, 3, 4, 5, 6)\n",
    "square, cube = square_cube(*numbers)\n",
    "print(square)\n",
    "print(cube)"
   ]
  },
  {
   "cell_type": "markdown",
   "metadata": {},
   "source": [
    "# 문제 5"
   ]
  },
  {
   "cell_type": "code",
   "execution_count": 7,
   "metadata": {},
   "outputs": [
    {
     "name": "stdout",
     "output_type": "stream",
     "text": [
      "add :  6\n",
      "mul :  16\n",
      "sub :  -1\n"
     ]
    }
   ],
   "source": [
    "# 5) 다음 결과가 출력될 수 있도록 add_mul_sub 함수를 작성하시오\n",
    "def add_mul_sub(**value):\n",
    "    add = value[\"list2\"][0] + value[\"list2\"][1]\n",
    "    mul = value[\"list1\"][0] * value[\"list1\"][1]\n",
    "    sub = value[\"list3\"][0] - value[\"list3\"][1]\n",
    "    \n",
    "    print(\"add : \", add)\n",
    "    print(\"mul : \", mul)\n",
    "    print(\"sub : \", sub)\n",
    "    \n",
    "values = {\"list1\" : [8, 2], \"list2\" : [1, 5], \"list3\" : [3, 4]}\n",
    "add_mul_sub(**values)"
   ]
  },
  {
   "cell_type": "markdown",
   "metadata": {},
   "source": [
    "# 문제 6"
   ]
  },
  {
   "cell_type": "code",
   "execution_count": 8,
   "metadata": {},
   "outputs": [
    {
     "name": "stdout",
     "output_type": "stream",
     "text": [
      "ID & name : 1, kim\n",
      "phone number & email : 010-1111-1111, lee@ssu.ac.kr\n"
     ]
    }
   ],
   "source": [
    "# 6) 다음 함수는 kekyword argument를 활용한 함수이다. 다음 결과가 출력 될 수 있도록 빈칸을 채우시오\n",
    "def contact_address(**kwargs):\n",
    "    for x, [y, z] in kwargs.items() :\n",
    "        print(\"{} : {}, {}\".format(x, y, z))\n",
    "        \n",
    "vars = {\"ID & name\" : (1, 'kim'), \"phone number & email\" : ('010-1111-1111', 'lee@ssu.ac.kr')}\n",
    "contact_address(**vars)"
   ]
  },
  {
   "cell_type": "markdown",
   "metadata": {},
   "source": [
    "# 문제 7"
   ]
  },
  {
   "cell_type": "code",
   "execution_count": 9,
   "metadata": {},
   "outputs": [
    {
     "name": "stdout",
     "output_type": "stream",
     "text": [
      "HELLO?!\n",
      "tom\n",
      "\n",
      "name 변수는 지역변수이기에 __init__ 함수 내에서만 사용 가능한 변수이다.\n",
      "따라서 함수 외부에서 해당 name 변수에 접근하기 위해서는 __init__ 함수 내에서 name 변수를 self.name으로 선언하여 instance 변수로 만들어야한다.\n"
     ]
    }
   ],
   "source": [
    "# 7-1) 위 코드에서 에러가 발생하지 않도록 코드를 고쳐서 작성하고, 출력 결과를 보이시오\n",
    "class Person() :\n",
    "    def __init__(self) :\n",
    "        self.name = 'tom'\n",
    "        print(\"HELLO?!\")\n",
    "        \n",
    "Person1 = Person()\n",
    "print(Person1.name)\n",
    "\n",
    "print()\n",
    "# 7-2) 위 코드가 에러인 이유에 대해서 print문으로 출력하시오\n",
    "print(\"name 변수는 지역변수이기에 __init__ 함수 내에서만 사용 가능한 변수이다.\")\n",
    "print(\"따라서 함수 외부에서 해당 name 변수에 접근하기 위해서는 __init__ 함수 내에서 name 변수를 self.name으로 선언하여 instance 변수로 만들어야한다.\")"
   ]
  },
  {
   "cell_type": "markdown",
   "metadata": {},
   "source": [
    "# 문제 8"
   ]
  },
  {
   "cell_type": "code",
   "execution_count": 12,
   "metadata": {},
   "outputs": [
    {
     "name": "stdout",
     "output_type": "stream",
     "text": [
      "Circumference :  125.60000000000001\n"
     ]
    }
   ],
   "source": [
    "# pi = 3.14를 class variable으로 갖고 instance 생성 시 radius를 받아 __init__ 메소드를 사용하여 원의 둘레인 circumference를\n",
    "# instance variable을 갖도록 하는 Circle 클래스를 작성하고 위와 같이 출력 결과를 보이시오.\n",
    "class Circle() :\n",
    "    pi = 3.14\n",
    "    \n",
    "    def __init__(self, radius) :\n",
    "        self.Circumference = 2 * Circle.pi * radius\n",
    "        \n",
    "teaching_table = Circle(20)\n",
    "print(\"Circumference : \", teaching_table.Circumference)"
   ]
  },
  {
   "cell_type": "code",
   "execution_count": null,
   "metadata": {},
   "outputs": [],
   "source": []
  }
 ],
 "metadata": {
  "kernelspec": {
   "display_name": "Python 3",
   "language": "python",
   "name": "python3"
  },
  "language_info": {
   "codemirror_mode": {
    "name": "ipython",
    "version": 3
   },
   "file_extension": ".py",
   "mimetype": "text/x-python",
   "name": "python",
   "nbconvert_exporter": "python",
   "pygments_lexer": "ipython3",
   "version": "3.8.5"
  }
 },
 "nbformat": 4,
 "nbformat_minor": 4
}

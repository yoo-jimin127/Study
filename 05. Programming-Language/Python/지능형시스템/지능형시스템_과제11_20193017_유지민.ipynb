{
 "cells": [
  {
   "cell_type": "markdown",
   "metadata": {},
   "source": [
    "# 문제 2"
   ]
  },
  {
   "cell_type": "code",
   "execution_count": 1,
   "metadata": {},
   "outputs": [
    {
     "name": "stdout",
     "output_type": "stream",
     "text": [
      "X.shape:  (50, 1)\n",
      "y.shape:  (50, 1)\n",
      "max(X):  [2.9917951]\n",
      "min(X):  [0.07572163]\n",
      "theta:  [[3]\n",
      " [2]]\n",
      "X1.shape:  (50, 2)\n",
      "predictions[:3]:  [[4.35145288]\n",
      " [5.0590615 ]\n",
      " [5.40140214]]\n",
      "predictions.shape:  (50, 1)\n"
     ]
    },
    {
     "data": {
      "image/png": "[encoded data removed]",
      "text/plain": [
       "<Figure size 432x288 with 1 Axes>"
      ]
     },
     "metadata": {
      "needs_background": "light"
     },
     "output_type": "display_data"
    }
   ],
   "source": [
    "# 아래에 명시된 조건을 만족하는 data와 prediction 값을 생성하여 [실행예시] 가 올바르게 실행됨을 보이시오.\n",
    "import numpy as np\n",
    "import matplotlib.pyplot as plt\n",
    "\n",
    "N = 50\n",
    "X = 3 * np.random.rand(50, 1)\n",
    "y = 4 + 3 * X + np.random.randn(50, 1)\n",
    "\n",
    "theta0 = 2\n",
    "theta1 = 3\n",
    "theta = np.array([[theta1, theta0]]).T\n",
    "oneColumns = np.full((N, 1), 1)\n",
    "X1 = np.column_stack((X, oneColumns))\n",
    "predictions = np.matmul(X1, theta)\n",
    "\n",
    "plt.scatter(X, y)\n",
    "print(\"X.shape: \", X.shape)\n",
    "print(\"y.shape: \", y.shape)\n",
    "print(\"max(X): \", max(X))\n",
    "print(\"min(X): \", min(X))\n",
    "print(\"theta: \", theta)\n",
    "print(\"X1.shape: \", X1.shape)\n",
    "print(\"predictions[:3]: \", predictions[:3])\n",
    "print(\"predictions.shape: \", predictions.shape)"
   ]
  },
  {
   "cell_type": "code",
   "execution_count": null,
   "metadata": {},
   "outputs": [],
   "source": []
  }
 ],
 "metadata": {
  "kernelspec": {
   "display_name": "Python 3",
   "language": "python",
   "name": "python3"
  },
  "language_info": {
   "codemirror_mode": {
    "name": "ipython",
    "version": 3
   },
   "file_extension": ".py",
   "mimetype": "text/x-python",
   "name": "python",
   "nbconvert_exporter": "python",
   "pygments_lexer": "ipython3",
   "version": "3.8.5"
  }
 },
 "nbformat": 4,
 "nbformat_minor": 4
}

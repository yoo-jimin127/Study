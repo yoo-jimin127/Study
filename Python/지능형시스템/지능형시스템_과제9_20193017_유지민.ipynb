{
 "cells": [
  {
   "cell_type": "markdown",
   "metadata": {},
   "source": [
    "# 문제 1"
   ]
  },
  {
   "cell_type": "code",
   "execution_count": 3,
   "metadata": {},
   "outputs": [
    {
     "name": "stdout",
     "output_type": "stream",
     "text": [
      "[[5]]\n",
      "\n",
      "[10 20 30]\n",
      "\n",
      "[[ 5  6  7]\n",
      " [10 20 30]]\n",
      "\n",
      "[[3 5]\n",
      " [5 7]]\n",
      "\n",
      "[[5 6 7]]\n"
     ]
    }
   ],
   "source": [
    "# 다음과 같은 numpy array가 있을 때 출력 결과가 나올 수 있도록 빈칸을 채우시오.\n",
    "import numpy as np\n",
    "array = np.array([[1,2,3], [3,4,5], [5,6,7], [10,20,30]])\n",
    "\n",
    "print(array[1:2, 2:3])\n",
    "print()\n",
    "print(array[3, :])\n",
    "print()\n",
    "print(array[2:4, :])\n",
    "print()\n",
    "print(array[1:3, ::2])\n",
    "print()\n",
    "print(array[2:3:])"
   ]
  },
  {
   "cell_type": "markdown",
   "metadata": {},
   "source": [
    "# 문제 2"
   ]
  },
  {
   "cell_type": "code",
   "execution_count": 4,
   "metadata": {},
   "outputs": [
    {
     "data": {
      "text/plain": [
       "array([21, 22])"
      ]
     },
     "execution_count": 4,
     "metadata": {},
     "output_type": "execute_result"
    }
   ],
   "source": [
    "# 다음과 같은 numpy array가 있을 때 Boolean indexing을 활용하여 출력 결과가 나올 수 있도록 빈칸을 채우시오.\n",
    "import numpy as np\n",
    "an_array = np.array([[11,12], [21,22], [31,32]])\n",
    "an_array[(an_array > 20) & (an_array < 30)]"
   ]
  },
  {
   "cell_type": "markdown",
   "metadata": {},
   "source": [
    "# 문제 3"
   ]
  },
  {
   "cell_type": "code",
   "execution_count": 7,
   "metadata": {},
   "outputs": [
    {
     "data": {
      "text/plain": [
       "array([[ 0,  1,  2,  3,  4],\n",
       "       [ 5,  6,  7,  8,  9],\n",
       "       [10, 11, 12, 13, 14]])"
      ]
     },
     "execution_count": 7,
     "metadata": {},
     "output_type": "execute_result"
    }
   ],
   "source": [
    "# 3 - 1)결과 1과 같이 0부터 14까지 15개의 요소를 갖는 (3, 5)크기의 numpy array를 array라는 변수에 저장하여 출력하는 코드를 작성하고 결과를 출력하시오.\n",
    "import numpy as np\n",
    "array1 = np.array(range(15))\n",
    "array2 = array1.reshape(3, 5)\n",
    "array1[array2]"
   ]
  },
  {
   "cell_type": "code",
   "execution_count": 8,
   "metadata": {},
   "outputs": [
    {
     "data": {
      "text/plain": [
       "array([[50,  1,  2, 53,  4],\n",
       "       [ 5, 56,  7,  8, 59],\n",
       "       [10, 11, 62, 13, 14]])"
      ]
     },
     "execution_count": 8,
     "metadata": {},
     "output_type": "execute_result"
    }
   ],
   "source": [
    "# 3 – 2)위 3-1에서 작성한 array와 boolean indexing 이용하여 결과 2와 같이 3으로 나눠떨어지는 수에 50을 더하는 코드를 작성하고 결과를 출력하시오.\n",
    "import numpy as np\n",
    "array3 = np.array(range(15))\n",
    "array4 = array3.reshape(3, 5)\n",
    "array4[array4 % 3 == 0] += 50\n",
    "np.array(array4)"
   ]
  },
  {
   "cell_type": "code",
   "execution_count": null,
   "metadata": {},
   "outputs": [],
   "source": []
  }
 ],
 "metadata": {
  "kernelspec": {
   "display_name": "Python 3",
   "language": "python",
   "name": "python3"
  },
  "language_info": {
   "codemirror_mode": {
    "name": "ipython",
    "version": 3
   },
   "file_extension": ".py",
   "mimetype": "text/x-python",
   "name": "python",
   "nbconvert_exporter": "python",
   "pygments_lexer": "ipython3",
   "version": "3.8.5"
  }
 },
 "nbformat": 4,
 "nbformat_minor": 4
}

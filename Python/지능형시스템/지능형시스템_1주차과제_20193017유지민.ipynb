{
 "cells": [
  {
   "cell_type": "code",
   "execution_count": 1,
   "metadata": {},
   "outputs": [
    {
     "name": "stdout",
     "output_type": "stream",
     "text": [
      "{'유지민': 20190317, 'kim': 20211111, 'park': 20212222, 'choi': 20213333, 'lee': 20214444}\n"
     ]
    }
   ],
   "source": [
    "# 지능형 시스템 1주차 과제 <컴퓨터학부 20193017 유지민>\n",
    "\n",
    "# 문제 1. 5개의 이름, 학번으로 구성된 'students'라는 이름의 dictionary 만들기\n",
    "students = {'유지민' : 20190317, 'kim' : 20211111, 'park' : 20212222, 'choi' : 20213333, 'lee' : 20214444}\n",
    "print(students)"
   ]
  },
  {
   "cell_type": "code",
   "execution_count": 2,
   "metadata": {},
   "outputs": [
    {
     "name": "stdout",
     "output_type": "stream",
     "text": [
      "5\n"
     ]
    }
   ],
   "source": [
    "# 문제 2. students dictionary의 총 갯수 출력 (len 활용)\n",
    "students = {'유지민' : 20190317, 'kim' : 20211111, 'park' : 20212222, 'choi' : 20213333, 'lee' : 20214444}\n",
    "print(len(students))"
   ]
  },
  {
   "cell_type": "code",
   "execution_count": 3,
   "metadata": {},
   "outputs": [
    {
     "name": "stdout",
     "output_type": "stream",
     "text": [
      "본인의 학번 :  20190317\n"
     ]
    }
   ],
   "source": [
    "# 문제 3. 본인의 학번 출력 (dictionary 명과 본인의 이름 (key) 사용하여 출력)\n",
    "students = {'유지민' : 20190317, 'kim' : 20211111, 'park' : 20212222, 'choi' : 20213333, 'lee' : 20214444}\n",
    "print('본인의 학번 : ', students.get('유지민'))"
   ]
  },
  {
   "cell_type": "code",
   "execution_count": 4,
   "metadata": {},
   "outputs": [
    {
     "name": "stdout",
     "output_type": "stream",
     "text": [
      "dict_keys(['유지민', 'kim', 'park', 'choi', 'lee'])\n"
     ]
    }
   ],
   "source": [
    "# 문제 4. students dictionary의 keys 출력\n",
    "students = {'유지민' : 20190317, 'kim' : 20211111, 'park' : 20212222, 'choi' : 20213333, 'lee' : 20214444}\n",
    "print(students.keys())"
   ]
  },
  {
   "cell_type": "code",
   "execution_count": 5,
   "metadata": {},
   "outputs": [
    {
     "name": "stdout",
     "output_type": "stream",
     "text": [
      "dict_values([20190317, 20211111, 20212222, 20213333, 20214444])\n"
     ]
    }
   ],
   "source": [
    "# 문제 5. students dictionary의 values 출력\n",
    "students = {'유지민' : 20190317, 'kim' : 20211111, 'park' : 20212222, 'choi' : 20213333, 'lee' : 20214444}\n",
    "print(students.values())"
   ]
  },
  {
   "cell_type": "code",
   "execution_count": null,
   "metadata": {},
   "outputs": [],
   "source": []
  }
 ],
 "metadata": {
  "kernelspec": {
   "display_name": "Python 3",
   "language": "python",
   "name": "python3"
  },
  "language_info": {
   "codemirror_mode": {
    "name": "ipython",
    "version": 3
   },
   "file_extension": ".py",
   "mimetype": "text/x-python",
   "name": "python",
   "nbconvert_exporter": "python",
   "pygments_lexer": "ipython3",
   "version": "3.8.5"
  }
 },
 "nbformat": 4,
 "nbformat_minor": 4
}

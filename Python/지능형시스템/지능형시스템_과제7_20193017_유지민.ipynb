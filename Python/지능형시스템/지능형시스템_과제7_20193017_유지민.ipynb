{
 "cells": [
  {
   "cell_type": "markdown",
   "metadata": {},
   "source": [
    "# 문제 1"
   ]
  },
  {
   "cell_type": "code",
   "execution_count": 1,
   "metadata": {},
   "outputs": [
    {
     "name": "stdout",
     "output_type": "stream",
     "text": [
      "78.5\n"
     ]
    }
   ],
   "source": [
    "# 1-1) 위 코드의 에러를 해결하여 circle1.area(5)를 정상적으로 출력하시오.\n",
    "class Circle1():\n",
    "    pi = 3.14\n",
    "    def area(self, radius):\n",
    "        return self.pi*radius**2\n",
    "    \n",
    "circle1 = Circle1()\n",
    "print(circle1.area(5))"
   ]
  },
  {
   "cell_type": "code",
   "execution_count": 3,
   "metadata": {},
   "outputs": [
    {
     "name": "stdout",
     "output_type": "stream",
     "text": [
      "78.5\n"
     ]
    }
   ],
   "source": [
    "# 1-2) 1-1에서 사용하였던 방법과 다른 방법으로 에러를 해결하여 출력하시오.\n",
    "class Circle2():\n",
    "    pi = 3.14\n",
    "    def area(self, radius):\n",
    "        return Circle2.pi*radius**2\n",
    "    \n",
    "circle2 = Circle2()\n",
    "print(circle2.area(5))"
   ]
  },
  {
   "cell_type": "code",
   "execution_count": 4,
   "metadata": {},
   "outputs": [
    {
     "name": "stdout",
     "output_type": "stream",
     "text": [
      "pi 변수는 클래스 변수이므로 area 함수 안에서 pi 변수를 사용할 떄에는 self.pi 또는 Circle2.pi와 같은 방법으로 사용하여야 한다.\n"
     ]
    }
   ],
   "source": [
    "# 1-3) 위의 코드에서 에러가 발생하는 이유를 print하시오.\n",
    "print(\"pi 변수는 클래스 변수이므로 area 함수 안에서 pi 변수를 사용할 떄에는 self.pi 또는 Circle2.pi와 같은 방법으로 사용하여야 한다.\")"
   ]
  },
  {
   "cell_type": "markdown",
   "metadata": {},
   "source": [
    "# 문제 2"
   ]
  },
  {
   "cell_type": "code",
   "execution_count": 5,
   "metadata": {},
   "outputs": [],
   "source": [
    "# 위와 같이 출력하도록 class의 빈칸을 채우고, 정상출력됨을 확인하시오.\n",
    "class Score:\n",
    "    def __init__(self, score) :\n",
    "        self.english_score = score"
   ]
  },
  {
   "cell_type": "code",
   "execution_count": 6,
   "metadata": {},
   "outputs": [],
   "source": [
    "kim_score = Score(90)\n",
    "lee_score = Score(85)"
   ]
  },
  {
   "cell_type": "code",
   "execution_count": 7,
   "metadata": {},
   "outputs": [
    {
     "data": {
      "text/plain": [
       "90"
      ]
     },
     "execution_count": 7,
     "metadata": {},
     "output_type": "execute_result"
    }
   ],
   "source": [
    "kim_score.english_score"
   ]
  },
  {
   "cell_type": "code",
   "execution_count": 8,
   "metadata": {},
   "outputs": [
    {
     "data": {
      "text/plain": [
       "85"
      ]
     },
     "execution_count": 8,
     "metadata": {},
     "output_type": "execute_result"
    }
   ],
   "source": [
    "lee_score.english_score"
   ]
  },
  {
   "cell_type": "markdown",
   "metadata": {},
   "source": [
    "# 문제 3"
   ]
  },
  {
   "cell_type": "code",
   "execution_count": 10,
   "metadata": {},
   "outputs": [
    {
     "name": "stdout",
     "output_type": "stream",
     "text": [
      "aaaabbbccd 4\n",
      "['a', 'a', 'a', 'd', 's'] 3\n"
     ]
    }
   ],
   "source": [
    "# 위와 같은 'how_many_a' list가 있을 때, \n",
    "# attribute function을 사용하여 [결과]와 같이 출력하는 프로그램을 작성하시오.\n",
    "how_many_a = [{'a': False}, \"aaaabbbccd\", 29, [\"a\", \"a\", \"a\", \"d\", \"s\"]]\n",
    "\n",
    "for i in how_many_a :\n",
    "    if hasattr(i, \"count\") :\n",
    "        print(i, end = \" \")\n",
    "        print(i.count(\"a\"))"
   ]
  },
  {
   "cell_type": "markdown",
   "metadata": {},
   "source": [
    "# 문제 4"
   ]
  },
  {
   "cell_type": "code",
   "execution_count": 11,
   "metadata": {},
   "outputs": [
    {
     "name": "stdout",
     "output_type": "stream",
     "text": [
      "Hong\n"
     ]
    }
   ],
   "source": [
    "# 위와 같은 class가 있을 때, arg 변수를 출력하니 \"Hong\"이 아닌 instance object가 출력된다. \n",
    "# instance object가 아닌 \"Hong\"이 출력되도록 새로운 dunder method를 추가하여 해결하시오.\n",
    "class Student() :\n",
    "    def __init__(self, argument_name):\n",
    "        self.name = argument_name\n",
    "    def __repr__(self):\n",
    "        return self.name\n",
    "    \n",
    "arg = Student(\"Hong\")\n",
    "print(arg)"
   ]
  },
  {
   "cell_type": "markdown",
   "metadata": {},
   "source": [
    "# 문제 5"
   ]
  },
  {
   "cell_type": "code",
   "execution_count": 14,
   "metadata": {},
   "outputs": [
    {
     "name": "stdout",
     "output_type": "stream",
     "text": [
      "유지민\n",
      "20193017\n",
      "[90, 100]\n"
     ]
    }
   ],
   "source": [
    "# 5-1) class와 dunder method를 사용하여 본인 이릉, 본인 학번, 임의의 점수(2개)를 입력받는프로그램을 작성하고,\n",
    "# [출력예시]와 같이 이름과 학번과 점수 2개를 출력하시오.\n",
    "class score():\n",
    "    def __init__(self, name, student_num, score1, score2):\n",
    "        self.name = name\n",
    "        self.student_num = student_num\n",
    "        self.score_list = [score1, score2]\n",
    "        \n",
    "    def name(self) :\n",
    "        return self.name\n",
    "\n",
    "    def student_num(self):\n",
    "        return self.student_num\n",
    "    \n",
    "    def score_list(self) :\n",
    "        return self.score_list\n",
    "    \n",
    "    def get_average(self) :\n",
    "        return sum(self.score_list) / len(self.score_list)\n",
    "    \n",
    "    def __repr__(self) :\n",
    "        return \"the scores of {} is {} {}\".format(self.name, self.score_list[0], self.score_list[1])\n",
    "    \n",
    "info = score('유지민', 20193017, 90, 100)\n",
    "print(info.name)\n",
    "print(info.student_num)\n",
    "print(info.score_list)"
   ]
  },
  {
   "cell_type": "code",
   "execution_count": 17,
   "metadata": {},
   "outputs": [
    {
     "data": {
      "text/plain": [
       "95.0"
      ]
     },
     "execution_count": 17,
     "metadata": {},
     "output_type": "execute_result"
    }
   ],
   "source": [
    "# 5-2) 위에서 입력받은 점수 2개의 평균값을 구하여 [출력예시]와 같이 출력하시오.\n",
    "info.get_average()"
   ]
  },
  {
   "cell_type": "code",
   "execution_count": 18,
   "metadata": {},
   "outputs": [
    {
     "data": {
      "text/plain": [
       "the scores of 유지민 is 90 100"
      ]
     },
     "execution_count": 18,
     "metadata": {},
     "output_type": "execute_result"
    }
   ],
   "source": [
    "# 5-3) 위에서 입력받은 이름과 점수를 사용하여 [출력예시]와 같은 형태로 출력하시오.\n",
    "info"
   ]
  },
  {
   "cell_type": "code",
   "execution_count": null,
   "metadata": {},
   "outputs": [],
   "source": []
  }
 ],
 "metadata": {
  "kernelspec": {
   "display_name": "Python 3",
   "language": "python",
   "name": "python3"
  },
  "language_info": {
   "codemirror_mode": {
    "name": "ipython",
    "version": 3
   },
   "file_extension": ".py",
   "mimetype": "text/x-python",
   "name": "python",
   "nbconvert_exporter": "python",
   "pygments_lexer": "ipython3",
   "version": "3.8.5"
  }
 },
 "nbformat": 4,
 "nbformat_minor": 4
}

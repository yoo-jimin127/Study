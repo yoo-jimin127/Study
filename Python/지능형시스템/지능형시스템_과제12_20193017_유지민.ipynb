{
 "cells": [
  {
   "cell_type": "markdown",
   "metadata": {},
   "source": [
    "# 문제 1"
   ]
  },
  {
   "cell_type": "code",
   "execution_count": 1,
   "metadata": {},
   "outputs": [
    {
     "name": "stdout",
     "output_type": "stream",
     "text": [
      "4.833333333333333\n"
     ]
    }
   ],
   "source": [
    "# 다음 코드는 Cost를 구하는 코드이다. 아래 Cost 계산식을 참고하여 빈칸을 채우시오.\n",
    "import numpy as np\n",
    "\n",
    "prediction = np.array([[5],[4],[6]])\n",
    "y = np.array([[3],[1],[2]])\n",
    "m = prediction.shape[0]\n",
    "error = prediction - y\n",
    "cost = (1/(2 * m)) * np.sum(np.square(error))\n",
    "print(cost)"
   ]
  },
  {
   "cell_type": "markdown",
   "metadata": {},
   "source": [
    "# 문제 2"
   ]
  },
  {
   "cell_type": "code",
   "execution_count": 2,
   "metadata": {},
   "outputs": [
    {
     "name": "stdout",
     "output_type": "stream",
     "text": [
      "[[10.7]\n",
      " [ 8.8]]\n"
     ]
    }
   ],
   "source": [
    "# 다음 코드는 parameter를 update 하는 코드이다. 아래 parameter update 계산식을 참고하여 빈칸을 채우시오.\n",
    "x = np.array([[8,1], [10,1], [15,1]])\n",
    "prediction = np.array([[5],[4],[1]])\n",
    "y = np.array([[3],[1],[2]])\n",
    "m = x.shape[0]\n",
    "error = prediction - y\n",
    "delta = np.matmul(x.T, error)\n",
    "theta = np.array([[20],[10]])\n",
    "alpha = 0.9\n",
    "new_theta = theta - (alpha/m)*delta\n",
    "print(new_theta)"
   ]
  },
  {
   "cell_type": "code",
   "execution_count": null,
   "metadata": {},
   "outputs": [],
   "source": []
  }
 ],
 "metadata": {
  "kernelspec": {
   "display_name": "Python 3",
   "language": "python",
   "name": "python3"
  },
  "language_info": {
   "codemirror_mode": {
    "name": "ipython",
    "version": 3
   },
   "file_extension": ".py",
   "mimetype": "text/x-python",
   "name": "python",
   "nbconvert_exporter": "python",
   "pygments_lexer": "ipython3",
   "version": "3.8.5"
  }
 },
 "nbformat": 4,
 "nbformat_minor": 4
}

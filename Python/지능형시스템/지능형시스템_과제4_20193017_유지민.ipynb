{
 "cells": [
  {
   "cell_type": "markdown",
   "metadata": {},
   "source": [
    "# 문제 1"
   ]
  },
  {
   "cell_type": "code",
   "execution_count": 15,
   "metadata": {},
   "outputs": [
    {
     "name": "stdout",
     "output_type": "stream",
     "text": [
      "{'유지민': {'cell': '010-9936-4524', 'email': 'dbwlals9936@naver.com'}, '유하연': {'cell': '010-8072-4524', 'email': 'hayeon1220@naver.com'}}\n"
     ]
    }
   ],
   "source": [
    "# 1-1) 본인의 이름, email이 반영된 dictionary 만든 후 출력 (나머지 정보는 임의로)\n",
    "contacts = {'유지민' : { 'cell' : '010-9936-4524', 'email' : 'dbwlals9936@naver.com'},\n",
    "           '유하연' : { 'cell' : '010-8072-4524', 'email' : 'hayeon1220@naver.com'}}\n",
    "print(contacts)\n"
   ]
  },
  {
   "cell_type": "code",
   "execution_count": 16,
   "metadata": {},
   "outputs": [
    {
     "name": "stdout",
     "output_type": "stream",
     "text": [
      "유지민\n",
      "유하연\n"
     ]
    }
   ],
   "source": [
    "# 1-2) 'contacts' dictionary 에 있는 모든 이름 출력\n",
    "for i in contacts:\n",
    "    print(i)"
   ]
  },
  {
   "cell_type": "code",
   "execution_count": 17,
   "metadata": {},
   "outputs": [
    {
     "name": "stdout",
     "output_type": "stream",
     "text": [
      "유지민's contact information\n",
      "  010-9936-4524\n",
      "  dbwlals9936@naver.com\n",
      "유하연's contact information\n",
      "  010-8072-4524\n",
      "  hayeon1220@naver.com\n"
     ]
    }
   ],
   "source": [
    "# 1-3) 'contacts' dictionary를 사용하여 아래와 같이 출력 (단, for, .format, indexing 사용)\n",
    "for name in contacts:\n",
    "    print(\"{}'s contact information\".format(name))\n",
    "    print(\" \",contacts[name]['cell'])\n",
    "    print(\" \",contacts[name]['email'])"
   ]
  },
  {
   "cell_type": "markdown",
   "metadata": {},
   "source": [
    "# 문제 2"
   ]
  },
  {
   "cell_type": "code",
   "execution_count": 18,
   "metadata": {},
   "outputs": [
    {
     "name": "stdout",
     "output_type": "stream",
     "text": [
      "['유재원', '김혜진', '유지민', '유하연', '유밤비', 1, 2, 3, 4, 5]\n"
     ]
    }
   ],
   "source": [
    "# 2-1) 본인의 이름이 반영 된 list 만든 후 출력\n",
    "data = ['유재원', '김혜진', '유지민', '유하연', '유밤비', 1, 2, 3, 4, 5]\n",
    "print(data)"
   ]
  },
  {
   "cell_type": "code",
   "execution_count": 19,
   "metadata": {},
   "outputs": [
    {
     "name": "stdout",
     "output_type": "stream",
     "text": [
      "2\n"
     ]
    }
   ],
   "source": [
    "# 2-2) 본인 이름의 index 출력\n",
    "self = data.index('유지민')\n",
    "print(self)"
   ]
  },
  {
   "cell_type": "code",
   "execution_count": 20,
   "metadata": {},
   "outputs": [
    {
     "name": "stdout",
     "output_type": "stream",
     "text": [
      "['유재원', '김혜진', '유지민', '유하연', '유밤비', 1, 2, 3, 4, 5, 'tOny']\n"
     ]
    }
   ],
   "source": [
    "# 2-3) 위 list에 새로운 이름 \"tOny\" 추가\n",
    "data.append('tOny')\n",
    "print(data) #추가되었는지 확인"
   ]
  },
  {
   "cell_type": "code",
   "execution_count": 21,
   "metadata": {},
   "outputs": [
    {
     "name": "stdout",
     "output_type": "stream",
     "text": [
      "Tony\n",
      "TONY\n",
      "tony\n"
     ]
    }
   ],
   "source": [
    "# 2-4) \"tOny\"의 첫 문자만 대문자로 출력\n",
    "appendMem = 'tOny'\n",
    "print(appendMem.capitalize())\n",
    "\n",
    "# 2-5) \"tOny\" 대문자로 출력\n",
    "print(appendMem.upper())\n",
    "\n",
    "# 2-6) \"tOny\" 소문자로 출력\n",
    "print(appendMem.lower())"
   ]
  },
  {
   "cell_type": "markdown",
   "metadata": {},
   "source": [
    "# 문제 3"
   ]
  },
  {
   "cell_type": "code",
   "execution_count": 22,
   "metadata": {},
   "outputs": [
    {
     "data": {
      "text/plain": [
       "'당신의 학번은 홀수입니다.'"
      ]
     },
     "execution_count": 22,
     "metadata": {},
     "output_type": "execute_result"
    }
   ],
   "source": [
    "def odd_or_even(student_num):\n",
    "    if (student_num)%2 == 0:\n",
    "        return \"당신의 학번은 짝수입니다.\"\n",
    "    else:\n",
    "        return \"당신의 학번은 홀수입니다.\"\n",
    "    \n",
    "# 3) 본인의 학번 입력 후 짝수인지 홀수인지 확인\n",
    "odd_or_even(20193017)"
   ]
  },
  {
   "cell_type": "markdown",
   "metadata": {},
   "source": [
    "# 문제 4"
   ]
  },
  {
   "cell_type": "code",
   "execution_count": 23,
   "metadata": {},
   "outputs": [
    {
     "name": "stdout",
     "output_type": "stream",
     "text": [
      "[1, 2, 3, 4, 5]\n",
      "b의 데이터 저장 방식은 'Tuple'입니다. tuple은 a의 데이터 저장 방식인 list와 달리 값을 변화시킬 수 없는 immutable의 속성을 가지므로 정렬을 하여 원소의 저장 순서를 바꾸는 것 역시 불가능합니다. 따라서 tuple형태의 b 데이터를 정렬하면 오류가 발생합니다.\n"
     ]
    }
   ],
   "source": [
    "a = [3, 5, 1, 2, 4]\n",
    "b = (3, 5, 1, 2, 4)\n",
    "\n",
    "# 4-1) 위 data 에서 a를 오름차순으로 정렬하고 출력\n",
    "a.sort()\n",
    "print(a)\n",
    "\n",
    "# 4-2) 위 data에서 b를 오름차순으로 정렬하면 오류가 발생한다. 오류가 발생하는 이유를 설명하시오.\n",
    "# b.sort()\n",
    "print(\"b의 데이터 저장 방식은 'Tuple'입니다. tuple은 a의 데이터 저장 방식인 list와 달리 값을 변화시킬 수 없는 immutable의 속성을 가지므로 정렬을 하여 원소의 저장 순서를 바꾸는 것 역시 불가능합니다. 따라서 tuple형태의 b 데이터를 정렬하면 오류가 발생합니다.\")"
   ]
  },
  {
   "cell_type": "code",
   "execution_count": null,
   "metadata": {},
   "outputs": [],
   "source": []
  }
 ],
 "metadata": {
  "kernelspec": {
   "display_name": "Python 3",
   "language": "python",
   "name": "python3"
  },
  "language_info": {
   "codemirror_mode": {
    "name": "ipython",
    "version": 3
   },
   "file_extension": ".py",
   "mimetype": "text/x-python",
   "name": "python",
   "nbconvert_exporter": "python",
   "pygments_lexer": "ipython3",
   "version": "3.8.5"
  }
 },
 "nbformat": 4,
 "nbformat_minor": 4
}

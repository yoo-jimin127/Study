{
 "cells": [
  {
   "cell_type": "markdown",
   "metadata": {},
   "source": [
    "# 문제 1"
   ]
  },
  {
   "cell_type": "code",
   "execution_count": 4,
   "metadata": {},
   "outputs": [
    {
     "name": "stdout",
     "output_type": "stream",
     "text": [
      "<class 'int'>\n",
      "<class 'float'>\n",
      "<class 'bool'>\n",
      "<class 'str'>\n",
      "<class 'list'>\n"
     ]
    }
   ],
   "source": [
    "a=15\n",
    "b=1.27\n",
    "c=True\n",
    "d='this is string'\n",
    "e=[1, 2, 3, 4, 5, 6, 7, 8, 9]\n",
    "\n",
    "print(type(a))\n",
    "print(type(b))\n",
    "print(type(c))\n",
    "print(type(d))\n",
    "print(type(e))"
   ]
  },
  {
   "cell_type": "markdown",
   "metadata": {},
   "source": [
    "# 문제 2"
   ]
  },
  {
   "cell_type": "code",
   "execution_count": 5,
   "metadata": {},
   "outputs": [
    {
     "name": "stdout",
     "output_type": "stream",
     "text": [
      "[['학번', 20193017], ['이름', '유지민'], ['학과', '컴퓨터학부']]\n",
      "3\n",
      "컴퓨터학부\n",
      "['학과', '컴퓨터학부']\n",
      "학번 : 20193017\n",
      "이름 : 유지민\n",
      "학과 : 컴퓨터학부\n"
     ]
    }
   ],
   "source": [
    "info=[['학번', 20193017], ['이름', '유지민'], ['학과', '컴퓨터학부']]\n",
    "\n",
    "# 2-1) 자신의 학번, 이름, 학과가 반영된 list of list 만든 후 출력\n",
    "print(info)\n",
    "\n",
    "# 2-2) 위 list의 길이 출력\n",
    "print(len(info))\n",
    "\n",
    "# 2-3) 자신의 학과 출력\n",
    "print(info[2][1])\n",
    "\n",
    "# 2-4) ['학과', '컴퓨터학부'] 출력\n",
    "print(info[2])\n",
    "\n",
    "# 2-5) for 문을 사용하여 아래와 같은 형태로 출력\n",
    "for [keys, values] in info :\n",
    "    print(\"{} :\".format(keys), end=\" \")\n",
    "    print(\"{}\".format(values))"
   ]
  },
  {
   "cell_type": "markdown",
   "metadata": {},
   "source": [
    "# 문제 3"
   ]
  },
  {
   "cell_type": "code",
   "execution_count": 7,
   "metadata": {},
   "outputs": [
    {
     "name": "stdout",
     "output_type": "stream",
     "text": [
      "I am 24 years old\n"
     ]
    }
   ],
   "source": [
    "number = 24\n",
    "print(\"I am \" + str(number) + \" years old\")"
   ]
  }
 ],
 "metadata": {
  "kernelspec": {
   "display_name": "Python 3",
   "language": "python",
   "name": "python3"
  },
  "language_info": {
   "codemirror_mode": {
    "name": "ipython",
    "version": 3
   },
   "file_extension": ".py",
   "mimetype": "text/x-python",
   "name": "python",
   "nbconvert_exporter": "python",
   "pygments_lexer": "ipython3",
   "version": "3.8.5"
  }
 },
 "nbformat": 4,
 "nbformat_minor": 4
}

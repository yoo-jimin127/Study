{
 "cells": [
  {
   "cell_type": "markdown",
   "metadata": {},
   "source": [
    "# 문제 1"
   ]
  },
  {
   "cell_type": "code",
   "execution_count": 12,
   "metadata": {},
   "outputs": [
    {
     "name": "stdout",
     "output_type": "stream",
     "text": [
      "['Odd', 'Even', 'Odd', 'Even', 'Odd']\n"
     ]
    }
   ],
   "source": [
    "def even_or_odd(num) :\n",
    "    if num % 2 == 0 :\n",
    "        return \"Even\"\n",
    "    else :\n",
    "        return \"Odd\"\n",
    "\n",
    "input = [1,2,3,4,5]\n",
    "output = [even_or_odd(num) for num in input]\n",
    "print(output)"
   ]
  },
  {
   "cell_type": "markdown",
   "metadata": {},
   "source": [
    "# 문제 2"
   ]
  },
  {
   "cell_type": "code",
   "execution_count": 13,
   "metadata": {},
   "outputs": [
    {
     "name": "stdout",
     "output_type": "stream",
     "text": [
      "t o m a t o \n",
      "-1\n",
      "Hello Park!\n"
     ]
    }
   ],
   "source": [
    "fruit = \"tomato\"\n",
    "greet = \"Hello Kim!\"\n",
    "\n",
    "# 2-1) fruit 변수를 't o m a t o'와 같이 출력하시오\n",
    "for i in fruit :\n",
    "    print(i, end = \" \")\n",
    "print()\n",
    "\n",
    "# 2-2) fruit 변수를 Searching 하였을 때 '-1'이 나올 수 있다. '-1'이 나오는 예를 출력하시오.\n",
    "test = fruit.find(\"z\");\n",
    "print(test)\n",
    "\n",
    "# 2-3) greet 변수의 일부 내용을 대체하여 \"Hello Park!\"으로 출력하시오\n",
    "change = greet.replace(\"Kim\", \"Park\")\n",
    "print(change)"
   ]
  },
  {
   "cell_type": "markdown",
   "metadata": {},
   "source": [
    "# 문제 3"
   ]
  },
  {
   "cell_type": "code",
   "execution_count": 14,
   "metadata": {},
   "outputs": [
    {
     "name": "stdout",
     "output_type": "stream",
     "text": [
      "Good Morning!   \n",
      "   Good Morning!\n",
      "Good Morning!\n",
      "True\n"
     ]
    }
   ],
   "source": [
    "greet = \"   Good Morning!   \"\n",
    "text = \"Have a goot weekend\"\n",
    "\n",
    "# 3-1) greet 변수에서 왼쪽 공백을 모두 제거하여 출력하시오\n",
    "print(greet.lstrip())\n",
    "\n",
    "# 3-2) greet 변수에서 오른쪽 공백을 모두 제거하여 출력하시오\n",
    "print(greet.rstrip())\n",
    "\n",
    "# 3-3) greet 변수에서 왼쪽과 오른쪽의 공백을 모두 제거하여 출력하시오\n",
    "print(greet.strip())\n",
    "\n",
    "# 3-4) text 변수가 \"Have\"로 시작하면 True, 그렇지 않으면 False를 출력하시오(if 사용 X)\n",
    "print(text.startswith(\"Have\"))"
   ]
  },
  {
   "cell_type": "markdown",
   "metadata": {},
   "source": [
    "# 문제 4"
   ]
  },
  {
   "cell_type": "code",
   "execution_count": 15,
   "metadata": {},
   "outputs": [
    {
     "name": "stdout",
     "output_type": "stream",
     "text": [
      "6\n",
      "11\n",
      "['Better', 'late', 'than', 'never.']\n",
      "['Better', 'late', 'than', 'never.']\n"
     ]
    }
   ],
   "source": [
    "text1 = \"Better late than never.\"\n",
    "text2 = \"Better;late;than;never.\"\n",
    "\n",
    "# 4-1) text1 변수에서 첫 공백(while space)의 index를 Searching 하여 출력하시오\n",
    "space_1 = text1.find(\" \")\n",
    "print(space_1)\n",
    "\n",
    "# 4-2) text1 변수에서 두번쨰 공백의 index를 Searching하여 출력하시오\n",
    "space_2 = text1.find(\" \", space_1 +1)\n",
    "print(space_2)\n",
    "\n",
    "# 4-3) text1 변수를 공백을 기준으로 split하여 출력하시오\n",
    "space_split = text1.split()\n",
    "print(space_split)\n",
    "\n",
    "# 4-4) text2 변수를 세미콜론(;)기준으로 split하여 출력하시오\n",
    "semi_split = text2.split(\";\")\n",
    "print(semi_split)"
   ]
  },
  {
   "cell_type": "markdown",
   "metadata": {},
   "source": [
    "# 문제 5"
   ]
  },
  {
   "cell_type": "code",
   "execution_count": 16,
   "metadata": {},
   "outputs": [
    {
     "name": "stdout",
     "output_type": "stream",
     "text": [
      "[(1, '안녕하세요'), (1, '제'), (1, '이름은'), (3, '유지민'), (2, '입니다'), (1, 'Hello'), (1, 'my'), (1, 'name'), (1, 'is'), (1, 'YooJimin')]\n",
      "\n",
      "[(3, '유지민'), (2, '입니다'), (1, '제'), (1, '이름은'), (1, '안녕하세요'), (1, 'name'), (1, 'my'), (1, 'is'), (1, 'YooJimin'), (1, 'Hello')]\n"
     ]
    }
   ],
   "source": [
    "# 5-1) 본인의 이름이 포함된 임의의 문장을 입력받고,\n",
    "# 각 단어의 개수를 세는 Word Count 프로그램을 작성한 후 Dictionary 형태로 출력하시오\n",
    "test = (\"안녕하세요 제 이름은 유지민 입니다 유지민 입니다 Hello my name is YooJimin 유지민\")\n",
    "\n",
    "dict = {}\n",
    "word = test.split()\n",
    "for i in word:\n",
    "    dict[i] = dict.get(i, 0) + 1\n",
    "\n",
    "test_dict = [(v, k) for k, v in dict.items()]\n",
    "print(test_dict)\n",
    "print()\n",
    "    \n",
    "# 5-2) 위에서 입력 받은 임의의 문장을 사용하여 [(count, word), (count, word), ...] 형태로\n",
    "# 내림차순 출력하시오\n",
    "test_dict = sorted(test_dict, reverse = True)\n",
    "print(test_dict)\n"
   ]
  },
  {
   "cell_type": "code",
   "execution_count": null,
   "metadata": {},
   "outputs": [],
   "source": []
  }
 ],
 "metadata": {
  "kernelspec": {
   "display_name": "Python 3",
   "language": "python",
   "name": "python3"
  },
  "language_info": {
   "codemirror_mode": {
    "name": "ipython",
    "version": 3
   },
   "file_extension": ".py",
   "mimetype": "text/x-python",
   "name": "python",
   "nbconvert_exporter": "python",
   "pygments_lexer": "ipython3",
   "version": "3.8.5"
  }
 },
 "nbformat": 4,
 "nbformat_minor": 4
}

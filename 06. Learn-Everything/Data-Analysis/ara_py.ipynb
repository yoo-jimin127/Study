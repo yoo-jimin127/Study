{
  "nbformat": 4,
  "nbformat_minor": 0,
  "metadata": {
    "colab": {
      "provenance": [],
      "authorship_tag": "ABX9TyNqjqOptF3hIoGMS6VYCOZe",
      "include_colab_link": true
    },
    "kernelspec": {
      "name": "python3",
      "display_name": "Python 3"
    },
    "language_info": {
      "name": "python"
    }
  },
  "cells": [
    {
      "cell_type": "markdown",
      "metadata": {
        "id": "view-in-github",
        "colab_type": "text"
      },
      "source": [
        "<a href=\"https://colab.research.google.com/github/yoo-jimin127/TIL/blob/main/ara_py.ipynb\" target=\"_parent\"><img src=\"https://colab.research.google.com/assets/colab-badge.svg\" alt=\"Open In Colab\"/></a>"
      ]
    },
    {
      "cell_type": "markdown",
      "source": [
        "# 입출력 기본"
      ],
      "metadata": {
        "id": "1AQOYqfXQK6U"
      }
    },
    {
      "cell_type": "code",
      "execution_count": 2,
      "metadata": {
        "colab": {
          "base_uri": "https://localhost:8080/"
        },
        "id": "eY2xU4_zP8QZ",
        "outputId": "59245e2e-94bc-4648-a2fc-076fbf0c7e31"
      },
      "outputs": [
        {
          "output_type": "stream",
          "name": "stdout",
          "text": [
            "105\n"
          ]
        }
      ],
      "source": [
        "x = 10\n",
        "y = 20\n",
        "z = x ** 2 + y /4\n",
        "\n",
        "print(int(z))\n",
        "# print(z)\n"
      ]
    },
    {
      "cell_type": "code",
      "source": [
        "jimin = [\"yoo\", 17, False]\n",
        "print(jimin)\n",
        "jimin[1] = 2023\n",
        "print(f'{jimin[0]}, {jimin[1]}, {jimin[2]}')\n",
        "jimin.append(\"010-0000-0000\")\n",
        "print(jimin)\n"
      ],
      "metadata": {
        "colab": {
          "base_uri": "https://localhost:8080/"
        },
        "id": "fbi8khCAZ4Cf",
        "outputId": "663f2212-c27d-41e7-b9f3-0950887288ad"
      },
      "execution_count": 4,
      "outputs": [
        {
          "output_type": "stream",
          "name": "stdout",
          "text": [
            "['yoo', 17, False]\n",
            "yoo, 2023, False\n",
            "['yoo', 2023, False, '010-0000-0000']\n"
          ]
        }
      ]
    },
    {
      "cell_type": "code",
      "source": [
        "# jimin = dict()\n",
        "# jimin[\"좋아하는 음식\"] = \"마라탕\"\n",
        "# jimin[\"생년월일\"] = 20000127\n",
        "# jimin[\"고등학교\"] = \"서운고\"\n",
        "\n",
        "# jimin = {}\n",
        "jimin = {\"좋아하는 음식\": \"마라탕\", \"생년월일\": 20000127, \"고등학교\": \"서운고\"}\n",
        "# print(jimin[\"좋아하는 음식\"])\n",
        "\n",
        "jimin[\"전화번호\"] = \"010-0000-0000\"\n",
        "# del jimin[\"좋아하는 음식\"]\n",
        "# print(jimin)\n"
      ],
      "metadata": {
        "colab": {
          "base_uri": "https://localhost:8080/"
        },
        "id": "gFHIi89VaYzD",
        "outputId": "4e176954-52b8-45cf-983d-2d3767950796"
      },
      "execution_count": 6,
      "outputs": [
        {
          "output_type": "stream",
          "name": "stdout",
          "text": [
            "{'생년월일': 20000127, '고등학교': '서운고', '전화번호': '010-0000-0000'}\n"
          ]
        }
      ]
    },
    {
      "cell_type": "code",
      "source": [
        "food = [\"프링글스\", \"마라탕\", \"떡볶이\", \"포케\", \"샐러드\", \"포케\"]\n",
        "food = set(food)\n",
        "print(food)\n",
        "\n",
        "food.remove(\"프링글스\")\n",
        "food.add(\"유럽\")\n",
        "print(food)"
      ],
      "metadata": {
        "colab": {
          "base_uri": "https://localhost:8080/"
        },
        "id": "UPUprHcH3sku",
        "outputId": "82bc844a-1d09-4126-c6d0-b8dbf5b82b42"
      },
      "execution_count": 8,
      "outputs": [
        {
          "output_type": "stream",
          "name": "stdout",
          "text": [
            "{'포케', '샐러드', '떡볶이', '마라탕', '프링글스'}\n",
            "{'포케', '샐러드', '떡볶이', '유럽', '마라탕'}\n"
          ]
        }
      ]
    },
    {
      "cell_type": "markdown",
      "source": [
        "# 모듈 관련 코드"
      ],
      "metadata": {
        "id": "Xg7a8g-e5GRC"
      }
    },
    {
      "cell_type": "code",
      "source": [
        "import random\n",
        "import time\n",
        "\n",
        "lunch = [\"된장찌개\", \"피자\", \"제육볶음\", \"짜장면\"]\n",
        "\n",
        "while True :\n",
        "    print(lunch)\n",
        "    item = input(\"음식을 추가 해주세요 : \")\n",
        "    if (item == \"q\") :\n",
        "        break\n",
        "    else :\n",
        "        lunch.append(item)\n",
        "\n",
        "print(lunch)\n",
        "set_lunch = set(lunch)\n",
        "\n",
        "while True :\n",
        "    print(set_lunch)\n",
        "    item = input(\"음식을 삭제해주세요 : \")\n",
        "    if (item == \"q\") :\n",
        "        break\n",
        "    else :\n",
        "        set_lunch = set_lunch - set([item])\n",
        "\n",
        "print(set_lunch, \"중에서 선택합니다.\")\n",
        "print(\"5\")\n",
        "time.sleep(1)\n",
        "print(\"4\")\n",
        "time.sleep(1)\n",
        "print(\"3\")\n",
        "time.sleep(1)\n",
        "print(\"2\")\n",
        "time.sleep(1)\n",
        "print(\"1\")\n",
        "time.sleep(1)\n",
        "\n",
        "print(random.choice(list(set_lunch))) #set_lunch가 list 형태로 반환됨"
      ],
      "metadata": {
        "colab": {
          "base_uri": "https://localhost:8080/"
        },
        "id": "HbfSBj0s5F3R",
        "outputId": "28e9549f-3fea-4db7-f7dc-1a6cf1c9b92e"
      },
      "execution_count": 9,
      "outputs": [
        {
          "output_type": "stream",
          "name": "stdout",
          "text": [
            "['된장찌개', '피자', '제육볶음', '짜장면']\n",
            "음식을 추가 해주세요 : 마라탕\n",
            "['된장찌개', '피자', '제육볶음', '짜장면', '마라탕']\n",
            "음식을 추가 해주세요 : q\n",
            "['된장찌개', '피자', '제육볶음', '짜장면', '마라탕']\n",
            "{'제육볶음', '피자', '짜장면', '마라탕', '된장찌개'}\n",
            "음식을 삭제해주세요 : q\n",
            "{'제육볶음', '피자', '짜장면', '마라탕', '된장찌개'} 중에서 선택합니다.\n",
            "5\n",
            "4\n",
            "3\n",
            "2\n",
            "1\n",
            "된장찌개\n"
          ]
        }
      ]
    },
    {
      "cell_type": "code",
      "source": [
        "sum = 0\n",
        "for i in range(1, 1000):\n",
        "  if i % 3 == 0 or i % 5 == 0:\n",
        "    sum += i\n",
        "\n",
        "print(sum)"
      ],
      "metadata": {
        "colab": {
          "base_uri": "https://localhost:8080/"
        },
        "id": "JF6tox_n5lZf",
        "outputId": "a9ed523c-8cf4-4c1c-d0bd-520f74993ba7"
      },
      "execution_count": 12,
      "outputs": [
        {
          "output_type": "stream",
          "name": "stdout",
          "text": [
            "233168\n"
          ]
        }
      ]
    },
    {
      "cell_type": "code",
      "source": [
        "!pip install googletrans==3.1.0a0"
      ],
      "metadata": {
        "colab": {
          "base_uri": "https://localhost:8080/",
          "height": 975
        },
        "id": "nNDf0AnR5QMe",
        "outputId": "908522f0-0ffe-4967-ac49-3b79d4807b44"
      },
      "execution_count": 10,
      "outputs": [
        {
          "output_type": "stream",
          "name": "stdout",
          "text": [
            "Collecting googletrans==3.1.0a0\n",
            "  Downloading googletrans-3.1.0a0.tar.gz (19 kB)\n",
            "  Preparing metadata (setup.py) ... \u001b[?25l\u001b[?25hdone\n",
            "Collecting httpx==0.13.3 (from googletrans==3.1.0a0)\n",
            "  Downloading httpx-0.13.3-py3-none-any.whl (55 kB)\n",
            "\u001b[2K     \u001b[90m━━━━━━━━━━━━━━━━━━━━━━━━━━━━━━━━━━━━━━━━\u001b[0m \u001b[32m55.1/55.1 kB\u001b[0m \u001b[31m1.7 MB/s\u001b[0m eta \u001b[36m0:00:00\u001b[0m\n",
            "\u001b[?25hRequirement already satisfied: certifi in /usr/local/lib/python3.10/dist-packages (from httpx==0.13.3->googletrans==3.1.0a0) (2023.7.22)\n",
            "Collecting hstspreload (from httpx==0.13.3->googletrans==3.1.0a0)\n",
            "  Downloading hstspreload-2023.1.1-py3-none-any.whl (1.5 MB)\n",
            "\u001b[2K     \u001b[90m━━━━━━━━━━━━━━━━━━━━━━━━━━━━━━━━━━━━━━━━\u001b[0m \u001b[32m1.5/1.5 MB\u001b[0m \u001b[31m22.8 MB/s\u001b[0m eta \u001b[36m0:00:00\u001b[0m\n",
            "\u001b[?25hRequirement already satisfied: sniffio in /usr/local/lib/python3.10/dist-packages (from httpx==0.13.3->googletrans==3.1.0a0) (1.3.0)\n",
            "Collecting chardet==3.* (from httpx==0.13.3->googletrans==3.1.0a0)\n",
            "  Downloading chardet-3.0.4-py2.py3-none-any.whl (133 kB)\n",
            "\u001b[2K     \u001b[90m━━━━━━━━━━━━━━━━━━━━━━━━━━━━━━━━━━━━━━━━\u001b[0m \u001b[32m133.4/133.4 kB\u001b[0m \u001b[31m17.3 MB/s\u001b[0m eta \u001b[36m0:00:00\u001b[0m\n",
            "\u001b[?25hCollecting idna==2.* (from httpx==0.13.3->googletrans==3.1.0a0)\n",
            "  Downloading idna-2.10-py2.py3-none-any.whl (58 kB)\n",
            "\u001b[2K     \u001b[90m━━━━━━━━━━━━━━━━━━━━━━━━━━━━━━━━━━━━━━━━\u001b[0m \u001b[32m58.8/58.8 kB\u001b[0m \u001b[31m8.0 MB/s\u001b[0m eta \u001b[36m0:00:00\u001b[0m\n",
            "\u001b[?25hCollecting rfc3986<2,>=1.3 (from httpx==0.13.3->googletrans==3.1.0a0)\n",
            "  Downloading rfc3986-1.5.0-py2.py3-none-any.whl (31 kB)\n",
            "Collecting httpcore==0.9.* (from httpx==0.13.3->googletrans==3.1.0a0)\n",
            "  Downloading httpcore-0.9.1-py3-none-any.whl (42 kB)\n",
            "\u001b[2K     \u001b[90m━━━━━━━━━━━━━━━━━━━━━━━━━━━━━━━━━━━━━━━━\u001b[0m \u001b[32m42.6/42.6 kB\u001b[0m \u001b[31m6.7 MB/s\u001b[0m eta \u001b[36m0:00:00\u001b[0m\n",
            "\u001b[?25hCollecting h11<0.10,>=0.8 (from httpcore==0.9.*->httpx==0.13.3->googletrans==3.1.0a0)\n",
            "  Downloading h11-0.9.0-py2.py3-none-any.whl (53 kB)\n",
            "\u001b[2K     \u001b[90m━━━━━━━━━━━━━━━━━━━━━━━━━━━━━━━━━━━━━━━━\u001b[0m \u001b[32m53.6/53.6 kB\u001b[0m \u001b[31m8.3 MB/s\u001b[0m eta \u001b[36m0:00:00\u001b[0m\n",
            "\u001b[?25hCollecting h2==3.* (from httpcore==0.9.*->httpx==0.13.3->googletrans==3.1.0a0)\n",
            "  Downloading h2-3.2.0-py2.py3-none-any.whl (65 kB)\n",
            "\u001b[2K     \u001b[90m━━━━━━━━━━━━━━━━━━━━━━━━━━━━━━━━━━━━━━━━\u001b[0m \u001b[32m65.0/65.0 kB\u001b[0m \u001b[31m9.9 MB/s\u001b[0m eta \u001b[36m0:00:00\u001b[0m\n",
            "\u001b[?25hCollecting hyperframe<6,>=5.2.0 (from h2==3.*->httpcore==0.9.*->httpx==0.13.3->googletrans==3.1.0a0)\n",
            "  Downloading hyperframe-5.2.0-py2.py3-none-any.whl (12 kB)\n",
            "Collecting hpack<4,>=3.0 (from h2==3.*->httpcore==0.9.*->httpx==0.13.3->googletrans==3.1.0a0)\n",
            "  Downloading hpack-3.0.0-py2.py3-none-any.whl (38 kB)\n",
            "Building wheels for collected packages: googletrans\n",
            "  Building wheel for googletrans (setup.py) ... \u001b[?25l\u001b[?25hdone\n",
            "  Created wheel for googletrans: filename=googletrans-3.1.0a0-py3-none-any.whl size=16351 sha256=5731496fab215ff9a0794095a3d9f4c6a0a7242509fc22f24854d35bcf556eea\n",
            "  Stored in directory: /root/.cache/pip/wheels/50/5d/3c/8477d0af4ca2b8b1308812c09f1930863caeebc762fe265a95\n",
            "Successfully built googletrans\n",
            "Installing collected packages: rfc3986, hyperframe, hpack, h11, chardet, idna, hstspreload, h2, httpcore, httpx, googletrans\n",
            "  Attempting uninstall: chardet\n",
            "    Found existing installation: chardet 5.2.0\n",
            "    Uninstalling chardet-5.2.0:\n",
            "      Successfully uninstalled chardet-5.2.0\n",
            "  Attempting uninstall: idna\n",
            "    Found existing installation: idna 3.4\n",
            "    Uninstalling idna-3.4:\n",
            "      Successfully uninstalled idna-3.4\n",
            "Successfully installed chardet-3.0.4 googletrans-3.1.0a0 h11-0.9.0 h2-3.2.0 hpack-3.0.0 hstspreload-2023.1.1 httpcore-0.9.1 httpx-0.13.3 hyperframe-5.2.0 idna-2.10 rfc3986-1.5.0\n"
          ]
        },
        {
          "output_type": "display_data",
          "data": {
            "application/vnd.colab-display-data+json": {
              "pip_warning": {
                "packages": [
                  "chardet",
                  "idna"
                ]
              }
            }
          },
          "metadata": {}
        }
      ]
    },
    {
      "cell_type": "code",
      "source": [
        "from googletrans import Translator\n",
        "\n",
        "# 1. 번역기 생성\n",
        "translator = Translator() #googletrans 내부의 번역기능을 사용할 수 있게 됨 (1. 번역기 생성)\n",
        "\n",
        "# sentence = \"안녕하세요 아라고등학교입니다.\"\n",
        "sentence = input(\"언어를 감지할 문장을 입력해주세요 : \")\n",
        "lang = input(\"번역을 원하는 언어를 입력해주세요 : \")\n",
        "\n",
        "# print(detected)\n",
        "# print(detected.lang)\n",
        "\n",
        "result = translator.translate(sentence, lang)\n",
        "# print(result)\n",
        "detected = translator.detect(sentence) # 언어 감지 뒤의 내용을 출력해주는 작업\n",
        "\n",
        "print(\"==========출력결과==========\")\n",
        "print(detected.lang,\":\", sentence) #입력값의 언어, 문장\n",
        "print(result.dest,\":\", result.text) #번역을 원했던 언어, 번역된 결과값\n"
      ],
      "metadata": {
        "colab": {
          "base_uri": "https://localhost:8080/"
        },
        "id": "B9PiVHzz5bVO",
        "outputId": "d624aced-d4b9-411e-e016-a56c34eb7e41"
      },
      "execution_count": 11,
      "outputs": [
        {
          "output_type": "stream",
          "name": "stdout",
          "text": [
            "언어를 감지할 문장을 입력해주세요 : 안녕하세요. 여기는 아라고등학교입니다.\n",
            "번역을 원하는 언어를 입력해주세요 : fr\n",
            "==========출력결과==========\n",
            "ko : 안녕하세요. 여기는 아라고등학교입니다.\n",
            "fr : Bonjour. C'est le lycée Arago.\n"
          ]
        }
      ]
    }
  ]
}